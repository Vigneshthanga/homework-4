{
 "cells": [
  {
   "cell_type": "code",
   "execution_count": 1,
   "metadata": {},
   "outputs": [
    {
     "name": "stdout",
     "output_type": "stream",
     "text": [
      "[4.73243698 2.51108093 1.45424187 0.92416587 0.85804868 0.64528221\n",
      " 0.55414147 0.10396199 0.35046627 0.16972374 0.29051203 0.22706428\n",
      " 0.25232001]\n",
      "[ 36.1988481   55.40633836  66.52996889  73.59899908  80.16229276\n",
      "  85.09811607  89.3367954   90.13201029  92.81275924  94.11099181\n",
      "  96.33314522  98.06998091 100.        ]\n"
     ]
    }
   ],
   "source": [
    "import numpy as np\n",
    "import pandas as pd\n",
    "import matplotlib.pyplot as plt\n",
    "import seaborn as sns\n",
    "from sklearn.preprocessing import StandardScaler\n",
    "%matplotlib inline\n",
    "\n",
    "columns = [\"class\",\"Alcohol\",\"Malic acid\",\"Ash\",\"Alcalinity of ash\",\"Magnesium\", \"Total phenols\", \"Flavanoids\", \"Nonflavanoid phenols\", \"Proanthocyanins\", \"Color intensity\", \"Hue\", \"OD280/OD315 of diluted wines\", \"Proline\"]\n",
    "df = pd.read_csv(\"./wine.data\",index_col=False, names = columns)\n",
    "df.head()\n",
    "\n",
    "# split data table into data X and class labels y\n",
    "X = df.iloc[:,1:15].values\n",
    "y = df.iloc[:,0].values\n",
    "X_sd = StandardScaler().fit_transform(X)\n",
    "\n",
    "\n",
    "cov_mat = np.cov(X_sd.T)\n",
    "\n",
    "e_vals, e_vecs = np.linalg.eig(cov_mat)\n",
    "\n",
    "sorted(e_vals, reverse=True)\n",
    "print(e_vals)\n",
    "var_arr = []\n",
    "for i in e_vals:\n",
    "    var_arr.append((i/sum(e_vals))*100)\n",
    "print(np.cumsum(var_arr))\n"
   ]
  },
  {
   "cell_type": "code",
   "execution_count": null,
   "metadata": {},
   "outputs": [],
   "source": []
  }
 ],
 "metadata": {
  "kernelspec": {
   "display_name": "Python 3",
   "language": "python",
   "name": "python3"
  },
  "language_info": {
   "codemirror_mode": {
    "name": "ipython",
    "version": 3
   },
   "file_extension": ".py",
   "mimetype": "text/x-python",
   "name": "python",
   "nbconvert_exporter": "python",
   "pygments_lexer": "ipython3",
   "version": "3.7.3"
  }
 },
 "nbformat": 4,
 "nbformat_minor": 2
}
