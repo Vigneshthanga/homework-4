{
 "cells": [
  {
   "cell_type": "code",
   "execution_count": 1,
   "metadata": {},
   "outputs": [
    {
     "name": "stdout",
     "output_type": "stream",
     "text": [
      "[[2, 3], [5, 7], [11, 13], [17, 19], [23, 29], [31, 37], [41, 43], [47, 53], [59, 61], [67, 71]]\n"
     ]
    },
    {
     "data": {
      "image/png": "[encoded data removed]",
      "text/plain": [
       "<Figure size 432x288 with 1 Axes>"
      ]
     },
     "metadata": {
      "needs_background": "light"
     },
     "output_type": "display_data"
    },
    {
     "name": "stderr",
     "output_type": "stream",
     "text": [
      "/Users/vigneshkumarthangarajan/anaconda3/lib/python3.7/site-packages/sklearn/cluster/k_means_.py:972: RuntimeWarning: Explicit initial center position passed: performing only one init in k-means instead of n_init=10\n",
      "  return_n_iter=True)\n"
     ]
    },
    {
     "name": "stdout",
     "output_type": "stream",
     "text": [
      "Initialization complete\n",
      "start iteration\n",
      "done sorting\n",
      "end inner loop\n",
      "Iteration 0, inertia 7606.222222222223\n",
      "start iteration\n",
      "done sorting\n",
      "end inner loop\n",
      "Iteration 1, inertia 2883.0833333333335\n",
      "start iteration\n",
      "done sorting\n",
      "end inner loop\n",
      "Iteration 2, inertia 2276.0\n",
      "start iteration\n",
      "done sorting\n",
      "end inner loop\n",
      "Iteration 3, inertia 2276.0\n",
      "center shift 0.000000e+00 within tolerance 4.768250e-02\n",
      "[[11.6 14.2]\n",
      " [49.  53. ]]\n"
     ]
    },
    {
     "data": {
      "image/png": "[encoded data removed]",
      "text/plain": [
       "<Figure size 432x288 with 1 Axes>"
      ]
     },
     "metadata": {
      "needs_background": "light"
     },
     "output_type": "display_data"
    },
    {
     "name": "stdout",
     "output_type": "stream",
     "text": [
      "Initialization complete\n",
      "start iteration\n",
      "done sorting\n",
      "end inner loop\n",
      "Iteration 0, inertia 2297.8333333333335\n",
      "start iteration\n",
      "done sorting\n",
      "end inner loop\n",
      "Iteration 1, inertia 2297.8333333333335\n",
      "center shift 0.000000e+00 within tolerance 4.768250e-02\n",
      "[[14.83333333 18.        ]\n",
      " [53.5        57.        ]]\n"
     ]
    },
    {
     "name": "stderr",
     "output_type": "stream",
     "text": [
      "/Users/vigneshkumarthangarajan/anaconda3/lib/python3.7/site-packages/sklearn/cluster/k_means_.py:972: RuntimeWarning: Explicit initial center position passed: performing only one init in k-means instead of n_init=10\n",
      "  return_n_iter=True)\n"
     ]
    },
    {
     "data": {
      "image/png": "[encoded data removed]",
      "text/plain": [
       "<Figure size 432x288 with 1 Axes>"
      ]
     },
     "metadata": {
      "needs_background": "light"
     },
     "output_type": "display_data"
    }
   ],
   "source": [
    "import pandas as pd\n",
    "import numpy as np\n",
    "import matplotlib.pyplot as plt\n",
    "from sklearn.cluster import KMeans\n",
    "%matplotlib inline\n",
    "from sklearn.cluster import KMeans\n",
    "\n",
    "def isPrime(n) : \n",
    "  \n",
    "    # Corner cases \n",
    "    if (n <= 1) : \n",
    "        return False\n",
    "    if (n <= 3) : \n",
    "        return True\n",
    "  \n",
    "    if (n % 2 == 0 or n % 3 == 0) : \n",
    "        return False\n",
    "  \n",
    "    i = 5\n",
    "    while(i * i <= n) : \n",
    "        if (n % i == 0 or n % (i + 2) == 0) : \n",
    "            return False\n",
    "        i = i + 6\n",
    "  \n",
    "    return True\n",
    "\n",
    "i=0\n",
    "n = 1\n",
    "data = []\n",
    "for i in range(0,10):\n",
    "    j=0\n",
    "    row = []\n",
    "    while(len(row)<2):\n",
    "        if (isPrime(n)):\n",
    "            row.append(n)\n",
    "        n+=1\n",
    "    data.append(row)\n",
    "npa = np.asarray(data)\n",
    "print(data)\n",
    "plt.scatter(npa[ : , 0], npa[ :, 1], c = 'b', cmap='viridis')\n",
    "plt.show()\n",
    "startpts = np.array([[2,3],[5,7]])\n",
    "Kmean = KMeans(init=startpts, n_clusters=2, verbose=1)\n",
    "Kmean.fit(npa)\n",
    "#y_kmeans = KMeans.predict(self, npa)\n",
    "print(Kmean.cluster_centers_)\n",
    "plt.scatter(npa[ : , 0], npa[ : , 1], c=Kmean.labels_.astype(float), cmap='viridis')\n",
    "plt.scatter(11.6, 14.2,  c='g', marker='s')\n",
    "plt.scatter(49.0, 53.0,  c='r', marker='s')\n",
    "plt.show()\n",
    "\n",
    "startpts = np.array([[2,3],[67,71]])\n",
    "Kmean = KMeans(init=startpts, n_clusters=2, verbose=1)\n",
    "Kmean.fit(npa)\n",
    "#y_kmeans = KMeans.predict(self, npa)\n",
    "print(Kmean.cluster_centers_)\n",
    "plt.scatter(npa[ : , 0], npa[ : , 1], c=Kmean.labels_.astype(float), cmap='viridis')\n",
    "plt.scatter(14.83333333, 18.0,  c='g', marker='s')\n",
    "plt.scatter(53.5,        57.0,  c='r', marker='s')\n",
    "plt.show()\n"
   ]
  },
  {
   "cell_type": "code",
   "execution_count": null,
   "metadata": {},
   "outputs": [],
   "source": []
  }
 ],
 "metadata": {
  "kernelspec": {
   "display_name": "Python 3",
   "language": "python",
   "name": "python3"
  },
  "language_info": {
   "codemirror_mode": {
    "name": "ipython",
    "version": 3
   },
   "file_extension": ".py",
   "mimetype": "text/x-python",
   "name": "python",
   "nbconvert_exporter": "python",
   "pygments_lexer": "ipython3",
   "version": "3.7.3"
  }
 },
 "nbformat": 4,
 "nbformat_minor": 2
}
